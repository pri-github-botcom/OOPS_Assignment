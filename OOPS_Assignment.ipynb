{
  "nbformat": 4,
  "nbformat_minor": 0,
  "metadata": {
    "colab": {
      "provenance": []
    },
    "kernelspec": {
      "name": "python3",
      "display_name": "Python 3"
    },
    "language_info": {
      "name": "python"
    }
  },
  "cells": [
    {
      "cell_type": "markdown",
      "source": [
        "#1) What are the five key concepts of object oriented programming(OOPS)?\n",
        "\n",
        "Solution:- The five key concepts of object oriented Programming are;\n",
        "\n",
        "1) Encapsulation:- Bundling data (variables) and methods (functions) that operate data into a single unit, or class, and restricting access to some of the object's components. This helps in protecting the data drom outside interference and misuse.\n",
        "\n",
        "2) Abstraction:- Hiding the complex implementation details and showing only the essential features of an object. Thus simplify the interface for interaction with the object.\n",
        "\n",
        "3) Inheritance:- The mechanism by which one class (childclass or subcalss) ca inherit methods and properties from another class ( parent class or superclass). This promotes code reuse and logical structure.\n",
        "\n",
        "4) Polymorphism:- The ability of different objects to respond to the some function callin different ways. This can be achieved therough method overriding or method overloading.\n",
        "\n",
        "5) Class and Object:- A class is a blueprint for creating objects(instances), which are specific realization of a class. Objects have states (attributes) and behaviour(methods).\n",
        "\n",
        "\n",
        "# 2) Write a python class 'car' with attributes 'make', 'model' and 'year'. Input a method to display the car's information.\n",
        "\n",
        "Solution:-\n",
        "\n"
      ],
      "metadata": {
        "id": "NWXazWlZidkk"
      }
    },
    {
      "cell_type": "markdown",
      "source": [],
      "metadata": {
        "id": "P8u5Futk3obM"
      }
    },
    {
      "cell_type": "code",
      "source": [
        "class Car:\n",
        "  def __init__(self, make, model, year):\n",
        "    self.make = make\n",
        "    self.model = model\n",
        "    self.year = year\n",
        "\n",
        "  def car_info(self):\n",
        "    print(f\"Car Information: {self.make} {self.model} {self.year}\")\n",
        "\n",
        "car1 = Car(\"Hyundai\", \"Verna\", 2022)\n",
        "car1.car_info()"
      ],
      "metadata": {
        "colab": {
          "base_uri": "https://localhost:8080/"
        },
        "id": "zpu2uZLtdtdC",
        "outputId": "b6ba0e08-4657-4a33-ac45-a56c0bc58c63"
      },
      "execution_count": null,
      "outputs": [
        {
          "output_type": "stream",
          "name": "stdout",
          "text": [
            "Car Information: Hyundai Verna 2022\n"
          ]
        }
      ]
    },
    {
      "cell_type": "markdown",
      "source": [
        "# 3) Explain the difference between instance methods and class methods. provide an example of each.\n",
        "\n",
        "Solution:-\n",
        "\n",
        "In python, instance methods and class methods are two types of methods that operate on different levels within a class.\n",
        "\n",
        "1) Instance Methods:-\n",
        "\n",
        "* Instance methods are most common type of methods.\n",
        "\n",
        "*They operate on instances(objects) of a class.\n",
        "\n",
        "*The first parameter of an instance method is always self, which refers the instance of which the method is being called.\n",
        "\n",
        "* These methods can access and modify instance attributes.\n",
        "\n",
        "Example;"
      ],
      "metadata": {
        "id": "2MBrlNipga6L"
      }
    },
    {
      "cell_type": "code",
      "source": [
        "class Volunteer:\n",
        "  def __init__(self, name, bloodgroup):\n",
        "    self.name = name\n",
        "    self.bloodgroup = bloodgroup\n",
        "\n",
        "  def volunteer_info(self):\n",
        "    return f\" Hello {self.name}, your bloodgroup is {self.bloodgroup}\"\n",
        "\n",
        "# Creating an instance of the class\n",
        "v1 = Volunteer(\"Aadhyavi\", \"O-\")\n",
        "v1.volunteer_info()"
      ],
      "metadata": {
        "id": "_9N8SfokieWI",
        "colab": {
          "base_uri": "https://localhost:8080/",
          "height": 36
        },
        "outputId": "8ee6940e-7cc5-4d32-97d0-165622806301"
      },
      "execution_count": null,
      "outputs": [
        {
          "output_type": "execute_result",
          "data": {
            "text/plain": [
              "' Hello Aadhyavi, your bloodgroup is O-'"
            ],
            "application/vnd.google.colaboratory.intrinsic+json": {
              "type": "string"
            }
          },
          "metadata": {},
          "execution_count": 4
        }
      ]
    },
    {
      "cell_type": "markdown",
      "source": [
        "2) Class Methods:- Class methods are methods that operate on the class itself, not on individual instances.\n",
        "\n",
        "* The first parameter of a class method is cls, which refers to the class, not an instance.\n",
        "\n",
        "* Class methods can be called on the class directly and modify class level attributes.\n",
        "\n",
        "* You need to use the @classmethod decorator to define a class method.\n",
        "\n",
        "Example;"
      ],
      "metadata": {
        "id": "LfWgxnynnWJd"
      }
    },
    {
      "cell_type": "code",
      "source": [
        "class Student:\n",
        "  def __init__(self,name):\n",
        "    self.name = name\n",
        "\n",
        "  @classmethod # Binds to the class.\n",
        "  def student_details(cls, name):\n",
        "    return cls(name) # Instead of self as first parameter, cls is used.\n",
        "\n",
        "obj1 = Student.student_details(\"Aadhyavi\")"
      ],
      "metadata": {
        "id": "-yJXaluwq0WZ"
      },
      "execution_count": null,
      "outputs": []
    },
    {
      "cell_type": "code",
      "source": [
        "obj1.name"
      ],
      "metadata": {
        "colab": {
          "base_uri": "https://localhost:8080/",
          "height": 36
        },
        "id": "cO6UZfHW07lB",
        "outputId": "d9c29c53-df7e-4cf5-a8d0-ab2e45212adc"
      },
      "execution_count": null,
      "outputs": [
        {
          "output_type": "execute_result",
          "data": {
            "text/plain": [
              "'Aadhyavi'"
            ],
            "application/vnd.google.colaboratory.intrinsic+json": {
              "type": "string"
            }
          },
          "metadata": {},
          "execution_count": 10
        }
      ]
    },
    {
      "cell_type": "markdown",
      "source": [
        "#4) How does Python implement the method overloading? give an example.\n",
        "\n",
        "Solution:- In Python, method overloading (i.e. defining multiple methods with the same name but different parameters) is not supported in the same way as in other programming languages Python handles this technique called method overloading or through default arguments.\n",
        "\n",
        "Python achieves functionally similar to method overloading using the techniques such as;\n",
        "\n",
        "1) Default Arguments:- You can provide default values for method parameters. This allows a single method to handle different number of arguments based on which ones are provided.\n",
        "\n",
        "Example;\n",
        "\n"
      ],
      "metadata": {
        "id": "G21dJsjb1t7F"
      }
    },
    {
      "cell_type": "code",
      "source": [
        "class Calculator:\n",
        "  def add(self, a=0, b=0, c=0):\n",
        "    return a+b+c\n",
        "\n",
        "calc = Calculator()\n",
        "print(calc.add(5,6))\n",
        "print(calc.add(7))\n",
        "print(calc.add(9,10,4))"
      ],
      "metadata": {
        "colab": {
          "base_uri": "https://localhost:8080/"
        },
        "id": "UivThtuDqhpa",
        "outputId": "2b863286-2610-448c-905e-0a5b3e25a74d"
      },
      "execution_count": null,
      "outputs": [
        {
          "output_type": "stream",
          "name": "stdout",
          "text": [
            "11\n",
            "7\n",
            "23\n"
          ]
        }
      ]
    },
    {
      "cell_type": "markdown",
      "source": [
        "2) Variable Length Arguments:- You can use *args to accept a variable number of positional arguments and **kwargs for keyword arguments. This allows the method to accept and process different numbers or types of arguments.\n",
        "\n",
        "Example;"
      ],
      "metadata": {
        "id": "b1ua5jZ2reCs"
      }
    },
    {
      "cell_type": "code",
      "source": [
        "class Calculator:\n",
        "  def add(self, *args):\n",
        "    return sum(args)\n",
        "\n",
        "calc = Calculator()\n",
        "print(calc.add(45,87))\n",
        "print(calc.add(12))\n",
        "print(calc.add(12,34,98,32))"
      ],
      "metadata": {
        "colab": {
          "base_uri": "https://localhost:8080/"
        },
        "id": "2GtyvHJbsUmV",
        "outputId": "3e41dcda-c14e-4816-839d-4bf2b09d48fb"
      },
      "execution_count": null,
      "outputs": [
        {
          "output_type": "stream",
          "name": "stdout",
          "text": [
            "132\n",
            "12\n",
            "176\n"
          ]
        }
      ]
    },
    {
      "cell_type": "markdown",
      "source": [
        "3) Manual Overloading:- Usingif-else or other control structures, you can manually hanle different arguments types inside a single method, making the method behave differently based on the number or type of arguments.\n",
        "\n",
        "Example;"
      ],
      "metadata": {
        "id": "oSgaPQeytFE5"
      }
    },
    {
      "cell_type": "code",
      "source": [
        "class Display:\n",
        "  def show(self, a =None, b =None):\n",
        "    if a is not None and b is not None:\n",
        "      print(f\" two arguments: {a}, {b}\")\n",
        "    elif a is not None:\n",
        "      print(f\" one argument: {a}\")\n",
        "    else :\n",
        "      print(\"No argument\")\n",
        "\n",
        "disp = Display()\n",
        "disp.show()"
      ],
      "metadata": {
        "colab": {
          "base_uri": "https://localhost:8080/"
        },
        "id": "t38uPZ5otuLU",
        "outputId": "9c181a97-4dc2-4b21-fa18-cf40624d033b"
      },
      "execution_count": null,
      "outputs": [
        {
          "output_type": "stream",
          "name": "stdout",
          "text": [
            "No argument\n"
          ]
        }
      ]
    },
    {
      "cell_type": "code",
      "source": [
        "disp.show(89)"
      ],
      "metadata": {
        "colab": {
          "base_uri": "https://localhost:8080/"
        },
        "id": "xPkir9lXyKR6",
        "outputId": "51fa3cd8-6d8f-44fc-b4e0-301e25c2545b"
      },
      "execution_count": null,
      "outputs": [
        {
          "output_type": "stream",
          "name": "stdout",
          "text": [
            " one argument: 89\n"
          ]
        }
      ]
    },
    {
      "cell_type": "code",
      "source": [
        "disp.show(87,23)"
      ],
      "metadata": {
        "colab": {
          "base_uri": "https://localhost:8080/"
        },
        "id": "BoFB1wrGyhC6",
        "outputId": "5de7e32b-94a3-441c-9d2f-807be328b511"
      },
      "execution_count": null,
      "outputs": [
        {
          "output_type": "stream",
          "name": "stdout",
          "text": [
            " two arguments: 87, 23\n"
          ]
        }
      ]
    },
    {
      "cell_type": "markdown",
      "source": [
        "#5) What are the three types of access modifiers in Python. How they are denoted?\n",
        "\n",
        "Solution:-In Python, access modifiers are used to define the accessibility of class members (variables and methods). While Python does not have strict access modifiers. There are three types of access modifiers in Python;\n",
        "\n",
        "1) Public Members:- Public members are accessible from inside and outside the class. By default, all class members (attributes and methods) are public.\n",
        "\n",
        "Notation: No underscore (_) prefix.\n",
        "\n",
        "Example;"
      ],
      "metadata": {
        "id": "U2sxa6edyqMI"
      }
    },
    {
      "cell_type": "code",
      "source": [
        "class MyClass:\n",
        "  def __init__(self):\n",
        "    self.public_var = \"This is a public variable\"   # Public member\n",
        "\n",
        "  def public_method(self):\n",
        "    print(\"Public method\")\n",
        "\n",
        "obj = MyClass()\n",
        "print(obj.public_var)  # Accessible from outside the class\n",
        "obj.public_method()    # Accessible from outside the class"
      ],
      "metadata": {
        "colab": {
          "base_uri": "https://localhost:8080/"
        },
        "id": "IiE5o39ItCSL",
        "outputId": "174f31e3-06e5-44ea-8499-352a79f25249"
      },
      "execution_count": null,
      "outputs": [
        {
          "output_type": "stream",
          "name": "stdout",
          "text": [
            "This is a public variable\n",
            "Public method\n"
          ]
        }
      ]
    },
    {
      "cell_type": "markdown",
      "source": [
        "2) Protected members are intended to be used within the class and its subclass. They are not meant to be accessed directly from outside the class, although Python doesn't enforce this strictly.\n",
        "\n",
        "Notation:- A single underscore prefix (_).\n",
        "\n",
        "Example;"
      ],
      "metadata": {
        "id": "7n2nQ-ahvgG0"
      }
    },
    {
      "cell_type": "code",
      "source": [
        "class MyClass:\n",
        "  def __init__(self):\n",
        "    self._protected_var = \"I am protected\" # Protected member\n",
        "\n",
        "  def _protected_method(self):\n",
        "    print(\"This is a protected method\")\n",
        "\n",
        "class SubClass(MyClass):\n",
        "  def access_protected(self):\n",
        "    print(self._protected_var)  # Accessible inside a subclass\n",
        "\n",
        "obj = SubClass()\n",
        "obj.access_protected()      # Accessing protected variable within subclass\n",
        "print(obj._protected_var)   # Still accessible outside,though discarded"
      ],
      "metadata": {
        "colab": {
          "base_uri": "https://localhost:8080/"
        },
        "id": "skcXx6mWwS1I",
        "outputId": "47ca4f9e-433d-478c-c3dd-af1bb774b84c"
      },
      "execution_count": 21,
      "outputs": [
        {
          "output_type": "stream",
          "name": "stdout",
          "text": [
            "I am protected\n",
            "I am protected\n"
          ]
        }
      ]
    },
    {
      "cell_type": "markdown",
      "source": [
        "3) Private Members:- Private members are accessible only within the class in which they are defined. Python performs name magling on private members to make them harder to access outsdide the class. However, Python doesn't fully restrict access, private members using a specific syntax (not recommended).\n",
        "\n",
        "Notation:- A double underscore prefix (__).\n",
        "\n",
        "Example;"
      ],
      "metadata": {
        "id": "P1f8QlFTzdIu"
      }
    },
    {
      "cell_type": "code",
      "source": [
        "class MyClass:\n",
        "  def __init__(self):\n",
        "    self.__private_var = \"I am private\"  # Private member\n",
        "\n",
        "  def __private_method(self):\n",
        "    print(\"This is a private method\")\n",
        "\n",
        "  def access_private(self):\n",
        "    print(self.__private_var)             # Accessible within the class\n",
        "\n",
        "obj = MyClass()\n",
        "obj.access_private()     # Accessing private member inside the class\n",
        "print(obj._MyClass__private_var)   # Name mangling allows access"
      ],
      "metadata": {
        "colab": {
          "base_uri": "https://localhost:8080/"
        },
        "id": "ghukSkbh07Zy",
        "outputId": "de677418-e9e8-4e8c-d772-1e1d2e88c584"
      },
      "execution_count": null,
      "outputs": [
        {
          "output_type": "stream",
          "name": "stdout",
          "text": [
            "I am private\n",
            "I am private\n"
          ]
        }
      ]
    },
    {
      "cell_type": "markdown",
      "source": [
        "#6) Describe the five types of inheritance in Python. Provide a simple example of multiple inheritance.\n",
        "\n",
        "Solution:- In Python, inheritance allows a class to acquire the properties and methods of another class. There are five types of inheritance that Python supports:\n",
        "\n",
        "1) Single Inheritance:- In Single inheritance, a subclass inherits from one superclass. It allows one class to derive behaviour and attributes from another.\n",
        "\n",
        "Example:"
      ],
      "metadata": {
        "id": "J0eFlEGi3vM_"
      }
    },
    {
      "cell_type": "code",
      "source": [
        "class Father:\n",
        "  def father_property(self):\n",
        "    print(\"This is father property\")\n",
        "\n",
        "class Son(Father):\n",
        "  def job(self):\n",
        "    print(\"son has property from job\")\n",
        "\n",
        "obj = Son()\n",
        "obj.father_property() # inherited method from Father."
      ],
      "metadata": {
        "colab": {
          "base_uri": "https://localhost:8080/"
        },
        "id": "ir-JCZv837WC",
        "outputId": "41122d0c-4e87-403d-b155-4c5e4e0edee2"
      },
      "execution_count": null,
      "outputs": [
        {
          "output_type": "stream",
          "name": "stdout",
          "text": [
            "This is father property\n"
          ]
        }
      ]
    },
    {
      "cell_type": "code",
      "source": [
        "obj.job() # Method of child class."
      ],
      "metadata": {
        "colab": {
          "base_uri": "https://localhost:8080/"
        },
        "id": "U6WxeN_t42Gp",
        "outputId": "c89dd9fd-7e85-41ac-a3ee-778971877962"
      },
      "execution_count": null,
      "outputs": [
        {
          "output_type": "stream",
          "name": "stdout",
          "text": [
            "This is father property\n"
          ]
        }
      ]
    },
    {
      "cell_type": "markdown",
      "source": [
        "2) Multiple Inheritance:- In multiple inheritance, a subclass inherits from more than one superclass. This allows the subclass to features of multiple classes.\n",
        "\n",
        "Example:"
      ],
      "metadata": {
        "id": "fBwtKYRL5F2p"
      }
    },
    {
      "cell_type": "code",
      "source": [
        "class Parentclass1:\n",
        "  def method1(self):\n",
        "    print(\"method 1 of pareent class1\")\n",
        "\n",
        "class Parentclass2:\n",
        "  def method2(self):\n",
        "    print(\"method 2 of parent class 2\")\n",
        "\n",
        "class Childclass(Parentclass1, Parentclass2):\n",
        "  def method(self):\n",
        "    print(\"method of child class\")\n",
        "\n",
        "c1 = Childclass()\n",
        "c1.method1() # Inherit from parent 1.\n",
        "c1.method2() # Inherit from parent 2.\n",
        "c1.method() # Method of child class."
      ],
      "metadata": {
        "colab": {
          "base_uri": "https://localhost:8080/"
        },
        "id": "H2TohC-c5tD_",
        "outputId": "2d7a8e69-3e77-439a-bc3a-1530bebaca3b"
      },
      "execution_count": null,
      "outputs": [
        {
          "output_type": "stream",
          "name": "stdout",
          "text": [
            "method 1 of pareent class1\n",
            "method 2 of parent class 2\n",
            "method of child class\n"
          ]
        }
      ]
    },
    {
      "cell_type": "markdown",
      "source": [
        "3) Multi- level inheritance:- In multi level inheritance, a subclass is derived from another subclass, forming a chain of inheritance.\n",
        "\n",
        "Example:"
      ],
      "metadata": {
        "id": "2j_pqN0c8BcQ"
      }
    },
    {
      "cell_type": "code",
      "source": [
        "class Grandfather:\n",
        "  def prop_grandfather(self):\n",
        "    print(\"I am your grandfather, this is my property\")\n",
        "\n",
        "class Father(Grandfather):\n",
        "  def prop_father(self):\n",
        "    print(\"I am your father, I am having my and your grand father's property\")\n",
        "\n",
        "class Son(Father):\n",
        "  def prop_son(self):\n",
        "    print(\"I am the king, I am having all the property\")\n",
        "\n",
        "son = Son()\n",
        "son.prop_grandfather() # Inherited from Grandfather.\n",
        "son.prop_father() # Inherited from Father.\n",
        "son.prop_son() # Method of child class."
      ],
      "metadata": {
        "colab": {
          "base_uri": "https://localhost:8080/"
        },
        "id": "w6ewtlAg9ab1",
        "outputId": "5046d976-9aca-4175-b839-212831cdba3c"
      },
      "execution_count": null,
      "outputs": [
        {
          "output_type": "stream",
          "name": "stdout",
          "text": [
            "I am your grandfather, this is my property\n",
            "I am your father, I am having my and your grand father's property\n",
            "I am the king, I am having all the property\n"
          ]
        }
      ]
    },
    {
      "cell_type": "markdown",
      "source": [
        "4) Hierarichal Inheritance:- In Hierarichal inheritance, multiple subclasses inherits from the same superclass. Each subclass can have its own behaviour in addition to the inherited behaviour.\n",
        "\n",
        "Example:"
      ],
      "metadata": {
        "id": "aZ2TuErI_fIb"
      }
    },
    {
      "cell_type": "code",
      "source": [
        "class Vehicle:\n",
        "  def vehicle_info(self):\n",
        "    print(\"This is a vehicle\")\n",
        "\n",
        "class Car(Vehicle):\n",
        "  def car_info(self):\n",
        "    print(\"This ia a car\")\n",
        "\n",
        "class Truck(Vehicle):\n",
        "  def truck_info(self):\n",
        "    print(\"This is a truck\")\n",
        "\n",
        "obj1 = Car()\n",
        "obj2 = Truck()\n",
        "\n",
        "obj1.vehicle_info() # inherited from parent class.\n",
        "obj1.car_info()     # Method of child class 1."
      ],
      "metadata": {
        "colab": {
          "base_uri": "https://localhost:8080/"
        },
        "id": "ZPTj7N74AAhK",
        "outputId": "97a678fc-b9b5-4ded-9b53-e5decb205204"
      },
      "execution_count": null,
      "outputs": [
        {
          "output_type": "stream",
          "name": "stdout",
          "text": [
            "This is a vehicle\n",
            "This ia a car\n"
          ]
        }
      ]
    },
    {
      "cell_type": "code",
      "source": [
        "obj2.vehicle_info() # Inherited from parent class.\n",
        "obj2.truck_info()   # Method of child class 2."
      ],
      "metadata": {
        "colab": {
          "base_uri": "https://localhost:8080/"
        },
        "id": "e5blglqqBni-",
        "outputId": "0558277e-e14a-4077-b77d-39615ca654ce"
      },
      "execution_count": null,
      "outputs": [
        {
          "output_type": "stream",
          "name": "stdout",
          "text": [
            "This is a vehicle\n",
            "This is a truck\n"
          ]
        }
      ]
    },
    {
      "cell_type": "markdown",
      "source": [
        "5) Hybrid Inheritance:- In hybrid inheritance, a combination of multiple types of inheritance is used. It can be a combination of any of the other type of inheritance.\n",
        "\n",
        "Example:"
      ],
      "metadata": {
        "id": "ZLK28mxQB4K3"
      }
    },
    {
      "cell_type": "code",
      "source": [
        "class Vehicle:\n",
        "  def vehicle_info(self):\n",
        "    print(\"Inside the vehicle class\")\n",
        "\n",
        "class Car(Vehicle):\n",
        "  def car_info(self):\n",
        "    print(\"Inside the car class\")\n",
        "\n",
        "class Truck(Vehicle):\n",
        "  def truck_info(self):\n",
        "    print(\"Inside the truck class\")\n",
        "\n",
        "class Sportscar(Car, Truck):\n",
        "  def sportscar_info(self):\n",
        "    print(\"Inside the sportscar class\")\n",
        "\n",
        "obj1 = Sportscar()\n",
        "obj1.vehicle_info()   # Inherited from base class\n",
        "obj1.car_info()       # Inherited from parent 1.\n",
        "obj1.truck_info()     # Inherited from parent 2.\n",
        "obj1.sportscar_info() # Method of child class."
      ],
      "metadata": {
        "colab": {
          "base_uri": "https://localhost:8080/"
        },
        "id": "L0Bkp4vjCQh8",
        "outputId": "8c2520b1-a64a-40a7-b5f0-a55f0625ddea"
      },
      "execution_count": null,
      "outputs": [
        {
          "output_type": "stream",
          "name": "stdout",
          "text": [
            "Inside the vehicle class\n",
            "Inside the car class\n",
            "Inside the truck class\n",
            "Inside the sportscar class\n"
          ]
        }
      ]
    },
    {
      "cell_type": "markdown",
      "source": [
        "#7) What is the method resolution order(MRO) in Python. How can you retrieve it programmitacally.\n",
        "\n",
        "Solution:- In Python, Method Resolution Order(MRO) defines the order in which Python looks for a method or attribute in a hierarchy of classes, especially in cases of inheritance. It is particurly important when using multiple inheritance to determine the sequence in which base classes are searched for a method or attribute.\n",
        "\n",
        "MRO ensures that:\n",
        "\n",
        "a. A child class is checked before its parent.\n",
        "\n",
        "b. If multiple parents are involved (in the case of multiple inheritance), the order is resolved based on the depth-first, left-to-right principle while respecting inheritance hierarchy.\n",
        "\n",
        "Example:\n",
        "\n"
      ],
      "metadata": {
        "id": "NvIdKF3Y4J2Q"
      }
    },
    {
      "cell_type": "code",
      "source": [
        "class A:\n",
        "  pass\n",
        "\n",
        "class B(A):\n",
        "  pass\n",
        "\n",
        "class C(A):\n",
        "  pass\n",
        "\n",
        "class D(B,C):\n",
        "  pass"
      ],
      "metadata": {
        "id": "4RPazdDsphCK"
      },
      "execution_count": 24,
      "outputs": []
    },
    {
      "cell_type": "markdown",
      "source": [
        "The MRO of class D would determine in what order Python will search for methods when called on an instance of D.\n",
        "\n",
        "Retrieving MRO Programmatically:-\n",
        "\n",
        "You can retrieve the MRO of a class in Python using:\n",
        "\n",
        "1) The __mro__ attribute.\n",
        "\n",
        "2) The mro() method.\n",
        "\n",
        "Example using __mro__ attribute:"
      ],
      "metadata": {
        "id": "8PnQ-ZAnp5Py"
      }
    },
    {
      "cell_type": "code",
      "source": [
        "print(D.__mro__)"
      ],
      "metadata": {
        "id": "gPmlSjf3tLt9",
        "colab": {
          "base_uri": "https://localhost:8080/"
        },
        "outputId": "48c73248-aeff-4648-eae9-458539b4a4ee"
      },
      "execution_count": 25,
      "outputs": [
        {
          "output_type": "stream",
          "name": "stdout",
          "text": [
            "(<class '__main__.D'>, <class '__main__.B'>, <class '__main__.C'>, <class '__main__.A'>, <class 'object'>)\n"
          ]
        }
      ]
    },
    {
      "cell_type": "markdown",
      "source": [
        "Example using mro() method:"
      ],
      "metadata": {
        "id": "EPSZd4ctrzSj"
      }
    },
    {
      "cell_type": "code",
      "source": [
        "print(D.mro())"
      ],
      "metadata": {
        "id": "_LleJ4_4r9B-",
        "colab": {
          "base_uri": "https://localhost:8080/"
        },
        "outputId": "4b924ca4-db3d-4592-c7f8-e0f88eeec74e"
      },
      "execution_count": 26,
      "outputs": [
        {
          "output_type": "stream",
          "name": "stdout",
          "text": [
            "[<class '__main__.D'>, <class '__main__.B'>, <class '__main__.C'>, <class '__main__.A'>, <class 'object'>]\n"
          ]
        }
      ]
    },
    {
      "cell_type": "markdown",
      "source": [
        "Both of these will return a tuple or list that shows the method resolution order."
      ],
      "metadata": {
        "id": "JBHywNvtsGDM"
      }
    },
    {
      "cell_type": "markdown",
      "source": [
        "#8) Create an abstract base class 'shape' with an abstract method 'area()'. Then create two subclasses 'Rectangle' and 'Circle' that implement the 'area' method.\n",
        "\n",
        "Solution:- You can create an abstract base class in Python using the abc (Abstract Base Classes) module. An abstract base class contains one or more absract methods, which must be implemented by subclass that inherits from it.\n",
        "\n"
      ],
      "metadata": {
        "id": "GgfFOO404lUi"
      }
    },
    {
      "cell_type": "code",
      "source": [
        "from abc import ABC, abstractmethod\n",
        "import math\n",
        "class Shape(ABC):\n",
        "  @abstractmethod\n",
        "  def area(self):\n",
        "    pass\n",
        "\n",
        "class Rectangle(Shape):\n",
        "  def __init__(self, width, height):\n",
        "    self.width = width\n",
        "    self.height = height\n",
        "\n",
        "  def area(self):\n",
        "     return self.width *self.height\n",
        "\n",
        "class Circle(Shape):\n",
        "  def __init__(self, radius):\n",
        "    self.radius = radius\n",
        "\n",
        "  def area(self):\n",
        "      return math.pi * (self.radius **2)\n",
        "\n",
        "rect = Rectangle(5,10)\n",
        "circle = Circle(6)\n",
        "\n",
        "print(f\"Area of Rectangle: {rect.area()}\")\n",
        "print(f\"Area of Circle: {circle.area()}\")\n"
      ],
      "metadata": {
        "id": "tO7jkTjUvzQB",
        "colab": {
          "base_uri": "https://localhost:8080/"
        },
        "outputId": "e8f46c33-ae8e-457f-893c-952f5717fcee"
      },
      "execution_count": 13,
      "outputs": [
        {
          "output_type": "stream",
          "name": "stdout",
          "text": [
            "Area of Rectangle: 50\n",
            "Area of Circle: 113.09733552923255\n"
          ]
        }
      ]
    },
    {
      "cell_type": "markdown",
      "source": [
        "#9) Demonstrate Polymorphism by creating a function that can work with different shape objects that can calculate and print their areas.\n",
        "\n",
        "Solution:-\n",
        "\n"
      ],
      "metadata": {
        "id": "Y9hAKpb65QNo"
      }
    },
    {
      "cell_type": "code",
      "source": [
        "class Shape:\n",
        "  def area(self):\n",
        "    pass\n",
        "\n",
        "class Rectangle(Shape):\n",
        "  def __init__(self, width, height):\n",
        "    self.width = width\n",
        "    self.height = height\n",
        "\n",
        "  def area(self):\n",
        "      return self.width *self.height\n",
        "\n",
        "class Circle(Shape):\n",
        "  def __init__(self, radius):\n",
        "    self.radius = radius\n",
        "\n",
        "  def area(self):\n",
        "      return 3.1416 * (self.radius** 2)\n",
        "\n",
        "class  Triangle(Shape):\n",
        "  def __init__(self, base, height):\n",
        "    self.base = base\n",
        "    self.height = height\n",
        "\n",
        "  def area(self):\n",
        "    return 0.5 * self.base * self.height\n",
        "\n",
        "def print_area(shape):\n",
        "    print(f\"The area of the shape is: {shape.area()}\")\n",
        "\n",
        "\n",
        "rectangle = Rectangle(18,29)\n",
        "circle = Circle(18)\n",
        "triangle = Triangle(18,29)\n",
        "\n",
        "print_area(rectangle)\n",
        "print_area(circle)\n",
        "print_area(triangle)"
      ],
      "metadata": {
        "id": "WT5pJZam7w0B",
        "colab": {
          "base_uri": "https://localhost:8080/"
        },
        "outputId": "a936c322-9ad9-4fc9-c868-9bae5236843a"
      },
      "execution_count": 20,
      "outputs": [
        {
          "output_type": "stream",
          "name": "stdout",
          "text": [
            "The area of the shape is: 522\n",
            "The area of the shape is: 1017.8783999999999\n",
            "The area of the shape is: 261.0\n"
          ]
        }
      ]
    },
    {
      "cell_type": "markdown",
      "source": [
        "#10) Implement Encapsulation in a 'BankAccount' with private attributes for 'balance' and 'account_number' Include methods for deposit, withdrwal and balance inquiry.\n",
        "\n",
        "Solutuion:-"
      ],
      "metadata": {
        "id": "hr8QEWo39277"
      }
    },
    {
      "cell_type": "code",
      "source": [
        "class BankAccount:\n",
        "  def __init__(self, account_number, balance = 0):\n",
        "    self.account_number = account_number\n",
        "    self.__balance = balance\n",
        "\n",
        "  def deposit(self, amount):\n",
        "    if amount > 0:\n",
        "     self.__balance += amount\n",
        "     print(f\"Deposited {amount}. New balance is {self.__balance}\")\n",
        "    else:\n",
        "     print(\"Insufficient amount\")\n",
        "\n",
        "  def withdraw(self, amount):\n",
        "    if 0 < amount <= self.__balance:\n",
        "      self.__balance -= amount\n",
        "      print(f\"withdraw {amount}. Remaining balance is {self.__balance}\")\n",
        "    else:\n",
        "      print(\"Insufficient funds\")\n",
        "\n",
        "  def get_balance(self):\n",
        "    return self.__balance\n",
        "\n",
        "  def get_account_number(self):\n",
        "    return self.account_number\n",
        "\n",
        "account = BankAccount(\"123456789\")\n",
        "account.deposit(500)\n",
        "account.withdraw(200)\n",
        "print(f\"Balance: {account.get_balance()}\")\n",
        "print(f\"Account Number: {account.get_account_number()}\")"
      ],
      "metadata": {
        "colab": {
          "base_uri": "https://localhost:8080/"
        },
        "id": "f8vgFu9zEdm4",
        "outputId": "501db783-a784-4819-e713-79ba6d9a85f2"
      },
      "execution_count": null,
      "outputs": [
        {
          "output_type": "stream",
          "name": "stdout",
          "text": [
            "Deposited 500. New balance is 500\n",
            "withdraw 200. Remaining balance is 300\n",
            "Balance: 300\n",
            "Account Number: 123456789\n"
          ]
        }
      ]
    },
    {
      "cell_type": "markdown",
      "source": [
        "#11) Write a class overrides the '__str__' and '__add__' magic methods. What will these methods allow you do to?\n",
        "\n",
        "Solution:-\n",
        "\n",
        "To overrides the __str__ and __add__ magic methods in a class, you'd be customizing the string representation and addition behavior of objects created from that class.\n",
        "\n",
        "1) __str__ (String representation):-\n",
        "\n",
        "* This method defines what is returned when str (object) or print (object) is called.\n",
        "\n",
        "* It gives you control over how the object is represented as a string.\n",
        "\n",
        "2) __add__ (Addition behavior):-\n",
        "\n",
        "* This method defines how objects of the class are added using the + operator.\n",
        "\n",
        "* You can customize what happens when two objects are added, like combining their attributes in some way."
      ],
      "metadata": {
        "id": "AH0smhOg-e5I"
      }
    },
    {
      "cell_type": "code",
      "source": [
        "class MyClass:\n",
        "  def __init__(self, value):\n",
        "    self.value = value\n",
        "\n",
        "  # Overriding __str__ method;\n",
        "  def __str__(self):\n",
        "    return f\"MyClass with value: {self.value}\"\n",
        "\n",
        "  # Overriding __add__method;\n",
        "  def __add__(self, other):\n",
        "  # Combining the value attributes of two objects\n",
        "    return MyClass(self.value + other.value)\n",
        "\n",
        "obj1 = MyClass(87)\n",
        "obj2 = MyClass(36)\n",
        "print(obj1)  # Calls __str__"
      ],
      "metadata": {
        "id": "QxGgciBV5xkG",
        "colab": {
          "base_uri": "https://localhost:8080/"
        },
        "outputId": "07765b57-e7ee-424f-ab5e-ab2c1cab1705"
      },
      "execution_count": null,
      "outputs": [
        {
          "output_type": "stream",
          "name": "stdout",
          "text": [
            "MyClass with value: 87\n"
          ]
        }
      ]
    },
    {
      "cell_type": "code",
      "source": [
        "obj3 = obj1 + obj2\n",
        "print(obj3)  # Calls __add__"
      ],
      "metadata": {
        "colab": {
          "base_uri": "https://localhost:8080/"
        },
        "id": "DwwCyaInBUZQ",
        "outputId": "6206ba75-b561-44b0-bf7e-29199f059138"
      },
      "execution_count": null,
      "outputs": [
        {
          "output_type": "stream",
          "name": "stdout",
          "text": [
            "MyClass with value: 123\n"
          ]
        }
      ]
    },
    {
      "cell_type": "markdown",
      "source": [
        "#12) Create a decorator that measures and prints the execution time of a function.\n",
        "\n",
        "Solution:-"
      ],
      "metadata": {
        "id": "2OiGo2FQLu5T"
      }
    },
    {
      "cell_type": "code",
      "source": [
        "import time\n",
        "\n",
        "\n",
        "def timer_decorator(func):\n",
        "  def timer():\n",
        "    start = time.time()\n",
        "    func()\n",
        "    end = time.time()\n",
        "    print(\"The time for executing the code is\", end-start)\n",
        "  return timer\n",
        "\n",
        "@timer_decorator\n",
        "def func_test():\n",
        "  print(11*1000)\n",
        "\n",
        "\n",
        "func_test()"
      ],
      "metadata": {
        "colab": {
          "base_uri": "https://localhost:8080/"
        },
        "id": "HxqyfDHEdZu9",
        "outputId": "883aadce-4e98-470f-d53b-e72cc91f72b5"
      },
      "execution_count": 7,
      "outputs": [
        {
          "output_type": "stream",
          "name": "stdout",
          "text": [
            "11000\n",
            "The time for executing the code is 0.0017910003662109375\n"
          ]
        }
      ]
    },
    {
      "cell_type": "code",
      "source": [
        "@timer_decorator\n",
        "def func_test1():\n",
        "  print(110000+100*456)\n",
        "\n",
        "func_test1()"
      ],
      "metadata": {
        "colab": {
          "base_uri": "https://localhost:8080/"
        },
        "id": "xK77a2ZcBDOt",
        "outputId": "b6032b7e-701b-4d77-adc2-cd41d0508868"
      },
      "execution_count": 8,
      "outputs": [
        {
          "output_type": "stream",
          "name": "stdout",
          "text": [
            "155600\n",
            "The time for executing the code is 5.5789947509765625e-05\n"
          ]
        }
      ]
    },
    {
      "cell_type": "markdown",
      "source": [
        "#13) Explain the concept of the Diamond Problem in multiple inheritance. How does Python resolve it\n",
        "\n",
        "Solution:-\n",
        "\n",
        "The diamond problem occurs in languages that supports multiple inheritance, where a class inherits from two or more classes that have a common base class. This can lead to ambiguity because the subclass may inherit the same methos or attribute from multiple parent classes, creating confusio about which one to use.\n",
        "\n",
        "The Diamond Shape:"
      ],
      "metadata": {
        "id": "EU8NqpeeMIRr"
      }
    },
    {
      "cell_type": "code",
      "source": [
        "                                                 A\n",
        "                                               /   \\\n",
        "                                               B    C\n",
        "                                                \\  /\n",
        "                                                  D"
      ],
      "metadata": {
        "id": "N26OsUQSICFy"
      },
      "execution_count": null,
      "outputs": []
    },
    {
      "cell_type": "markdown",
      "source": [
        "* Class B and class C both inherits from class A.\n",
        "\n",
        "* Class D inherits from both B and C.\n",
        "\n",
        "Now if class D calls a method from class A (whch is inherited through both A and C), the problem arises: which version of the method from A should be called? the one inherited via B or via C?\n",
        "\n",
        "How Python resolves the Diamond Problem:\n",
        "\n",
        "Python uses the C3 linearization algorithm (also known as Method Resolution Order(MRO)) to resolve this issue. It creates a deterministic and predictable order in which classes are searched for methods and attributes. The MRO ensures that a method is only called once, even if it is inherited through multiple paths.\n",
        "\n",
        "The MRO can be used by __mro__ attribute or mro() method.\n",
        "\n",
        "Example:"
      ],
      "metadata": {
        "id": "_w5rll2kItBG"
      }
    },
    {
      "cell_type": "code",
      "source": [
        "class A:\n",
        "  def method(self):\n",
        "    print(\"method of class A\")\n",
        "\n",
        "class B(A):\n",
        "  def method(self):\n",
        "    print(\"method of class B\")\n",
        "\n",
        "class C(A):\n",
        "  def method(self):\n",
        "    print(\"method of class C\")\n",
        "\n",
        "class D(B, C):\n",
        "  pass\n",
        "\n",
        "objD = D()\n",
        "objD.method()"
      ],
      "metadata": {
        "id": "heP45n5LKviW"
      },
      "execution_count": null,
      "outputs": []
    },
    {
      "cell_type": "markdown",
      "source": [
        "Python determines the order of method resolution using MRO: it checks D , then B, then C, and finally A.\n",
        "\n",
        "MRO of class D:"
      ],
      "metadata": {
        "id": "ZgndO6wIMrZj"
      }
    },
    {
      "cell_type": "code",
      "source": [
        "print(D.__mro__)"
      ],
      "metadata": {
        "colab": {
          "base_uri": "https://localhost:8080/"
        },
        "id": "uzdGIagBNHEP",
        "outputId": "d7496780-09d6-4e75-f6c1-4f4b68cca64d"
      },
      "execution_count": null,
      "outputs": [
        {
          "output_type": "stream",
          "name": "stdout",
          "text": [
            "(<class '__main__.D'>, <class '__main__.B'>, <class '__main__.C'>, <class '__main__.A'>, <class 'object'>)\n"
          ]
        }
      ]
    },
    {
      "cell_type": "markdown",
      "source": [
        "So, in this case, when d.method() method is called, Pyhton will use the method() method from class B first, following the MRO order.\n",
        "\n",
        "MRO Resolution:-\n",
        "\n",
        "* The MRO ensures that Python avoids ambiguity by specifying a clear order for resolving methods.\n",
        "\n",
        "* If you want to control which parent class's method should be called, you can also explicitly call the parent class method using super()."
      ],
      "metadata": {
        "id": "tObHNqG8NbiX"
      }
    },
    {
      "cell_type": "markdown",
      "source": [
        "#14) Write a class method that keeps track of the number of instances created from a class.\n",
        "\n",
        "Solution:-"
      ],
      "metadata": {
        "id": "PYtwXpr5Mm7J"
      }
    },
    {
      "cell_type": "code",
      "source": [
        "class MyClass:\n",
        "  instance_count = 0\n",
        "\n",
        "  def __init__(self):\n",
        "    MyClass.instance_count += 1  # Increment the count when a new instance is created\n",
        "\n",
        "  @classmethod\n",
        "  def get_instance_count(cls): #class method to access instance count\n",
        "    return cls.instance_count\n",
        "\n",
        "obj1 = MyClass()  # 1st Instance\n",
        "obj2 = MyClass()  # 2nd Instance\n",
        "obj3 = MyClass()  # 3rd Instance\n",
        "\n",
        "print(MyClass.get_instance_count())"
      ],
      "metadata": {
        "colab": {
          "base_uri": "https://localhost:8080/"
        },
        "id": "gEqYqtIQPQ80",
        "outputId": "d1924cce-7d61-47f6-de0e-475d8c1a637c"
      },
      "execution_count": null,
      "outputs": [
        {
          "output_type": "stream",
          "name": "stdout",
          "text": [
            "3\n"
          ]
        }
      ]
    },
    {
      "cell_type": "markdown",
      "source": [
        "#15) Implement a static method in a class that checks if a given year is a leap year.\n",
        "\n",
        "Solution:-"
      ],
      "metadata": {
        "id": "P84yPALkNX9X"
      }
    },
    {
      "cell_type": "code",
      "source": [
        "class YearChecker:\n",
        "  @staticmethod\n",
        "  def leap_year(year):  # A year is a leap year if it is divisible by 4, but not by 100.\n",
        "  # Unless it is also divisible by 400\n",
        "    if (year % 4 == 0 and year % 100 != 0) or (year % 400 == 0):\n",
        "      return True\n",
        "    else:\n",
        "      return False\n",
        "\n",
        "print(YearChecker.leap_year(2024))"
      ],
      "metadata": {
        "colab": {
          "base_uri": "https://localhost:8080/"
        },
        "id": "9OY-byEmQzzL",
        "outputId": "ca353989-e3be-4333-83e8-458c0de3d1e9"
      },
      "execution_count": null,
      "outputs": [
        {
          "output_type": "stream",
          "name": "stdout",
          "text": [
            "True\n"
          ]
        }
      ]
    },
    {
      "cell_type": "code",
      "source": [
        "print(YearChecker.leap_year(1991))"
      ],
      "metadata": {
        "colab": {
          "base_uri": "https://localhost:8080/"
        },
        "id": "rarBC1lVTAyv",
        "outputId": "70cb4ccd-0de1-483f-9282-2eff7cce3148"
      },
      "execution_count": null,
      "outputs": [
        {
          "output_type": "stream",
          "name": "stdout",
          "text": [
            "False\n"
          ]
        }
      ]
    },
    {
      "cell_type": "code",
      "source": [
        "print(YearChecker.leap_year(1996))"
      ],
      "metadata": {
        "colab": {
          "base_uri": "https://localhost:8080/"
        },
        "id": "XoF_1dbhTMli",
        "outputId": "07aeb9e0-9769-47dc-ea30-00802e4eec3b"
      },
      "execution_count": null,
      "outputs": [
        {
          "output_type": "stream",
          "name": "stdout",
          "text": [
            "True\n"
          ]
        }
      ]
    }
  ]
}